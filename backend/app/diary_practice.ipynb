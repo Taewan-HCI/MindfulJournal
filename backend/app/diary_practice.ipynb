{
 "cells": [
  {
   "cell_type": "code",
   "execution_count": 1,
   "metadata": {
    "collapsed": true
   },
   "outputs": [],
   "source": [
    "from fastapi import Request, FastAPI\n",
    "from fastapi.middleware.cors import CORSMiddleware\n",
    "import sys\n",
    "import firebase_admin\n",
    "from firebase_admin import credentials\n",
    "from firebase_admin import firestore\n",
    "import openai"
   ]
  },
  {
   "cell_type": "code",
   "execution_count": 2,
   "outputs": [],
   "source": [
    "cred = credentials.Certificate(\n",
    "    '/Users/taewankim/PycharmProjects/LLM_diary/backend/app/mindfuljournal-44166-firebase-adminsdk-frpg8-10b50844cf.json')\n",
    "app_1 = firebase_admin.initialize_app(cred)\n",
    "db = firestore.client()"
   ],
   "metadata": {
    "collapsed": false
   }
  },
  {
   "cell_type": "code",
   "execution_count": 17,
   "outputs": [
    {
     "name": "stdout",
     "output_type": "stream",
     "text": [
      "assistant :오늘 있었던 일에 대해 듣고 싶어요. 정해진 규칙이 없으니 자유롭게 얘기해주세요.\n",
      "user: 오늘 별일은 없었던 거 같은데. 음 생각이 잘 안 나네.\n",
      "assistant :그래도 괜찮아요, 때로는 실용 없는 날이 있죠. 작은 것이라도 기억에 남은 게 있나요?\n",
      "user: 음 글쎄요. 작게나마 기억이 나는 건 점심에 나가서 커피를 한잔 하고 왔는데 맛이 좋았어요\n",
      "assistant :청순해 보이네요! 커피가 맛있게 느껴진 이유가 뭐였는지 알려주실래요? 맛만 그런 게 아니라 경험 전체적으로 좋았던 건가요?\n",
      "user: 음 아이스크림 커피라는 새로운 커피를 먹어봤는데, 달달하니 맛있더라구요. 살이 찔 걱정은 좀 되긴 하지만..\n",
      "assistant :새로운 것을 시도해보는 것을 즐겼던 것 같아요! 가끔 작은 쾌락에 빠져들어도 괜찮아요. 그리고, 자기 관리도 중요하다는 것 기억해주세요.\n",
      "user: 쾌락에 빠져드는게 괜찮다구요..? 조금 걱정되는 표현같은데요\n",
      "assistant :가끔은 작은 즐거움을 즐기는 것도 괜찮아요. 작은 것들을 즐기는 시간을 가져보는 것은 우리 삶에 더 많은 기쁨과 행복을 가져올 수 있어요. 누구에게도 해롭지 않다면 건강하고 전반적인 웰빙에도 기여할 수 있어요.\n",
      "user: 음 알겠어요. 말이 좀 긴것 같네요. 다음부터는 좀 더 짧게 얘기해주면 어떨까 싶어요\n",
      "assistant :제 응답이 너무 길어서 죄송합니다. 간결함의 중요성에 대해 이해하고, 앞으로 더 간결하게 대답하도록 노력하겠습니다. 이 문제를 제기해 주셔서 감사합니다.\n",
      "user: 네 알겠어요\n",
      "\n"
     ]
    }
   ],
   "source": [
    "doc_ref = db.collection(u'session').document(\"Taewan Kim\").collection(u'diary').document(\"3\")\n",
    "doc = doc_ref.get()\n",
    "text = \"\"\n",
    "if doc.exists:\n",
    "    result = doc.to_dict()\n",
    "    result = result[\"conversation\"]\n",
    "    # print(result)\n",
    "else:\n",
    "    print(u'No such document!')\n",
    "\n",
    "for i in range(0, len(result)):\n",
    "    tmp = result[i][\"content\"]\n",
    "    if (result[i][\"role\"] == \"assistant\"):\n",
    "        text = text + \"assistant :\" + tmp + \"\\n\"\n",
    "    else:\n",
    "        text = text + \"user: \" + tmp + \"\\n\"\n",
    "\n",
    "print(text)"
   ],
   "metadata": {
    "collapsed": false
   }
  },
  {
   "cell_type": "code",
   "execution_count": null,
   "outputs": [],
   "source": [],
   "metadata": {
    "collapsed": false
   }
  }
 ],
 "metadata": {
  "kernelspec": {
   "display_name": "Python 3",
   "language": "python",
   "name": "python3"
  },
  "language_info": {
   "codemirror_mode": {
    "name": "ipython",
    "version": 2
   },
   "file_extension": ".py",
   "mimetype": "text/x-python",
   "name": "python",
   "nbconvert_exporter": "python",
   "pygments_lexer": "ipython2",
   "version": "2.7.6"
  }
 },
 "nbformat": 4,
 "nbformat_minor": 0
}
